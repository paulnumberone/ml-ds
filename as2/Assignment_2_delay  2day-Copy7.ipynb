{
 "cells": [
  {
   "cell_type": "code",
   "execution_count": 1,
   "metadata": {},
   "outputs": [],
   "source": [
    "import warnings\n",
    "import numpy as np\n",
    "import pandas as pd\n",
    "from pathlib import Path\n",
    "from sklearn.model_selection import train_test_split\n",
    "from sklearn.metrics import roc_auc_score\n",
    "from catboost import CatBoostClassifier"
   ]
  },
  {
   "cell_type": "code",
   "execution_count": 2,
   "metadata": {},
   "outputs": [],
   "source": [
    "train_df = pd.read_csv(r'C:\\Users\\One\\Git\\ml-ds\\as2\\flight_delays_train.csv.zip', compression = 'zip')\n",
    "test_df = pd.read_csv(r'C:\\Users\\One\\Git\\ml-ds\\as2\\flight_delays_test.csv.zip', compression = 'zip')"
   ]
  },
  {
   "cell_type": "code",
   "execution_count": 3,
   "metadata": {},
   "outputs": [
    {
     "name": "stderr",
     "output_type": "stream",
     "text": [
      "C:\\ProgramData\\Anaconda3\\lib\\site-packages\\ipykernel_launcher.py:2: FutureWarning: Sorting because non-concatenation axis is not aligned. A future version\n",
      "of pandas will change to not sort by default.\n",
      "\n",
      "To accept the future behavior, pass 'sort=False'.\n",
      "\n",
      "To retain the current behavior and silence the warning, pass 'sort=True'.\n",
      "\n",
      "  \n"
     ]
    }
   ],
   "source": [
    "train_split = train_df.shape[0]\n",
    "full_df = pd.concat((train_df, test_df))"
   ]
  },
  {
   "cell_type": "code",
   "execution_count": 4,
   "metadata": {},
   "outputs": [],
   "source": [
    "full_df['Duration'] = round(full_df['Distance']/7).astype(np.int32)"
   ]
  },
  {
   "cell_type": "code",
   "execution_count": 5,
   "metadata": {},
   "outputs": [],
   "source": [
    "#full_df['Duration'] = np.log(full_df['Duration']).astype(np.int32)"
   ]
  },
  {
   "cell_type": "code",
   "execution_count": null,
   "metadata": {},
   "outputs": [],
   "source": []
  },
  {
   "cell_type": "code",
   "execution_count": 6,
   "metadata": {},
   "outputs": [],
   "source": [
    "full_df['Arrival'] = ((full_df['DepTime'] + full_df['Duration']) // 100)\n",
    "full_df.loc[full_df['Arrival'] >=24, 'Arrival'] = 1"
   ]
  },
  {
   "cell_type": "code",
   "execution_count": 7,
   "metadata": {},
   "outputs": [],
   "source": [
    "full_df['LogDistance'] = np.log(full_df['Distance']).astype(np.int32)"
   ]
  },
  {
   "cell_type": "code",
   "execution_count": 8,
   "metadata": {},
   "outputs": [],
   "source": [
    "#судя по важности не понадобится\n",
    "#full_df['LogDuration'] = (np.log(full_df['Duration'])**(-2)).astype(np.int32)"
   ]
  },
  {
   "cell_type": "code",
   "execution_count": 9,
   "metadata": {},
   "outputs": [],
   "source": [
    "#идея\n",
    "#1 0.7855373409298098\n",
    "#full_df['Avaiting'] = (full_df['Duration'] / np.log(full_df['Duration'])**(-1)).astype(np.int32)"
   ]
  },
  {
   "cell_type": "code",
   "execution_count": 10,
   "metadata": {},
   "outputs": [],
   "source": [
    "#время ожидания по отношению к рейсу с более похожим временем\n",
    "#2 0.7850657026779955\n",
    "full_df['Avaiting2'] = (full_df['Duration'] / np.log(full_df['Duration'])).astype(np.int32)"
   ]
  },
  {
   "cell_type": "code",
   "execution_count": 11,
   "metadata": {},
   "outputs": [],
   "source": [
    "#количество маршрутов рейсов у авиакомпаний\n",
    "#судя по важности не понадобится\n",
    "full_df['Carrier_trace'] = np.where(full_df['UniqueCarrier'].isin((0, 1, 3, 4, 5,6,7,10,12)), 'high', \n",
    "                                        np.where(full_df['UniqueCarrier'].isin((2,8,9,11,14,18,19,20)), 'med', 'low'))"
   ]
  },
  {
   "cell_type": "code",
   "execution_count": 12,
   "metadata": {},
   "outputs": [],
   "source": [
    "#количество рейсов у аэродрома посадки\n",
    "Dest_int = train_df.groupby('Dest').count()\n",
    "df = Dest_int.sort_values(by = ['Month'], ascending = [False])"
   ]
  },
  {
   "cell_type": "code",
   "execution_count": 13,
   "metadata": {},
   "outputs": [],
   "source": [
    "df['Dest_intense'] = np.where(df['Month'] >=5000, 'a', \n",
    "                        (np.where(df['Month'] >=4000, 'b', \n",
    "                            (np.where((df['Month'] >= 3000), 'c', \n",
    "                                     (np.where((df['Month'] >= 2000), 'd', \n",
    "                                               (np.where((df['Month'] >= 1500), 'e', \n",
    "                                                        (np.where((df['Month'] >= 1000), 'f', \n",
    "                                                                 (np.where((df['Month'] >= 500), 'g', 'h')))))))))))))"
   ]
  },
  {
   "cell_type": "code",
   "execution_count": 14,
   "metadata": {},
   "outputs": [],
   "source": [
    "a = list(df[df['Dest_intense'] == 'a'].index)\n",
    "b = list(df[df['Dest_intense'] == 'b'].index)\n",
    "c = list(df[df['Dest_intense'] == 'c'].index)\n",
    "d = list(df[df['Dest_intense'] == 'd'].index)\n",
    "e = list(df[df['Dest_intense'] == 'e'].index)\n",
    "f = list(df[df['Dest_intense'] == 'f'].index)\n",
    "g = list(df[df['Dest_intense'] == 'g'].index)\n",
    "h = list(df[df['Dest_intense'] == 'h'].index)"
   ]
  },
  {
   "cell_type": "code",
   "execution_count": 15,
   "metadata": {},
   "outputs": [],
   "source": [
    "full_df['Dest_intense'] = np.where(full_df['Dest'].isin(a), 'a',\n",
    "                                   (np.where(full_df['Dest'].isin(b), 'b',\n",
    "                                             (np.where(full_df['Dest'].isin(c), 'c',\n",
    "                                                      (np.where(full_df['Dest'].isin(d), 'd',\n",
    "                                                               (np.where(full_df['Dest'].isin(e), 'e',\n",
    "                                                                        (np.where(full_df['Dest'].isin(f), 'f',\n",
    "                                                                                 (np.where(full_df['Dest'].isin(g), 'g', 'h')))))))))))))"
   ]
  },
  {
   "cell_type": "code",
   "execution_count": 16,
   "metadata": {},
   "outputs": [],
   "source": [
    "#количество рейсоы у аэродрома вылета\n",
    "Origin_int = train_df.groupby('Origin').count()\n",
    "df2 = Origin_int.sort_values(by = ['Month'], ascending = [False])"
   ]
  },
  {
   "cell_type": "code",
   "execution_count": 17,
   "metadata": {},
   "outputs": [],
   "source": [
    "df2['Origin_intense'] = np.where(df2['Month'] >=5000, 'a2', \n",
    "                        (np.where(df2['Month'] >=4000, 'b2', \n",
    "                            (np.where((df2['Month'] >= 3000), 'c2', \n",
    "                                     (np.where((df2['Month'] >= 2000), 'd2', \n",
    "                                               (np.where((df2['Month'] >= 1500), 'e2', \n",
    "                                                        (np.where((df2['Month'] >= 1000), 'f2', \n",
    "                                                                 (np.where((df2['Month'] >= 500), 'g2', 'h2')))))))))))))"
   ]
  },
  {
   "cell_type": "code",
   "execution_count": 18,
   "metadata": {},
   "outputs": [],
   "source": [
    "a2 = list(df2[df2['Origin_intense'] == 'a2'].index)\n",
    "b2 = list(df2[df2['Origin_intense'] == 'b2'].index)\n",
    "c2 = list(df2[df2['Origin_intense'] == 'c2'].index)\n",
    "d2 = list(df2[df2['Origin_intense'] == 'd2'].index)\n",
    "e2 = list(df2[df2['Origin_intense'] == 'e2'].index)\n",
    "f2 = list(df2[df2['Origin_intense'] == 'f2'].index)\n",
    "g2 = list(df2[df2['Origin_intense'] == 'g2'].index)\n",
    "h2 = list(df2[df2['Origin_intense'] == 'h2'].index)"
   ]
  },
  {
   "cell_type": "code",
   "execution_count": 19,
   "metadata": {},
   "outputs": [],
   "source": [
    "full_df['Origin_intense'] = np.where(full_df['Origin'].isin(a2), 'a2',\n",
    "                                   (np.where(full_df['Origin'].isin(b2), 'b2',\n",
    "                                             (np.where(full_df['Origin'].isin(c2), 'c2',\n",
    "                                                      (np.where(full_df['Origin'].isin(d2), 'd2',\n",
    "                                                               (np.where(full_df['Origin'].isin(e2), 'e2',\n",
    "                                                                        (np.where(full_df['Origin'].isin(f2), 'f2',\n",
    "                                                                                 (np.where(full_df['Origin'].isin(g2), 'g2', 'h2')))))))))))))"
   ]
  },
  {
   "cell_type": "code",
   "execution_count": 20,
   "metadata": {},
   "outputs": [],
   "source": [
    "full_df['Intense'] = full_df['Origin_intense'] + '-->' + full_df['Dest_intense']"
   ]
  },
  {
   "cell_type": "code",
   "execution_count": 21,
   "metadata": {},
   "outputs": [],
   "source": [
    "df['Join'] = df.index\n",
    "df2['Join'] = df2.index"
   ]
  },
  {
   "cell_type": "code",
   "execution_count": 22,
   "metadata": {},
   "outputs": [],
   "source": [
    "common_intense = pd.merge(df[[ 'Month', 'Join']], df2[['DayofMonth','Join']], how = 'outer')"
   ]
  },
  {
   "cell_type": "code",
   "execution_count": 23,
   "metadata": {},
   "outputs": [],
   "source": [
    "common_intense['Intensiveness'] = np.where(common_intense['Month'].isna(), 0, (common_intense['DayofMonth'] / common_intense['Month']))"
   ]
  },
  {
   "cell_type": "code",
   "execution_count": 24,
   "metadata": {},
   "outputs": [],
   "source": [
    "common_intense['Intensiveness'] = common_intense['Intensiveness'].fillna(0).astype(object)"
   ]
  },
  {
   "cell_type": "code",
   "execution_count": 25,
   "metadata": {},
   "outputs": [],
   "source": [
    "new_full_df = full_df.merge(common_intense[['Intensiveness', 'Join']], left_on='Dest', right_on='Join', how = 'outer')"
   ]
  },
  {
   "cell_type": "code",
   "execution_count": 27,
   "metadata": {},
   "outputs": [],
   "source": [
    "new_full_df['flight'] = new_full_df['Origin'] + '-->' + new_full_df['Dest']\n",
    "\n",
    "# Hour and minute\n",
    "new_full_df['hour'] = new_full_df['DepTime'] // 100\n",
    "new_full_df.loc[new_full_df['hour'] == 24, 'hour'] = 0\n",
    "new_full_df.loc[new_full_df['hour'] == 25, 'hour'] = 1\n",
    "new_full_df['minute'] = new_full_df['DepTime'] % 100\n",
    "\n",
    "# Daytime\n",
    "new_full_df['daytime'] = pd.cut(new_full_df['hour'], bins=[0, 6, 12, 18, 23], include_lowest=True).astype(object)\n",
    "\n",
    "for col in ['Origin', 'UniqueCarrier', 'daytime']:\n",
    "    new_full_df[col] = pd.factorize(new_full_df[col])[0]"
   ]
  },
  {
   "cell_type": "code",
   "execution_count": 28,
   "metadata": {},
   "outputs": [],
   "source": [
    "for col in ['Origin', 'Dest', 'UniqueCarrier', 'daytime']:\n",
    "    new_full_df[col] = pd.factorize(new_full_df[col])[0]\n",
    "#test_df['flight'] = test_df['Origin'] + '-->' + test_df['Dest']\n",
    "#full_df['DayOfWeek'] = full_df['DayOfWeek'].apply(lambda x: x.replace('c-',''))\n",
    "#full_df['Month'] = full_df['Month'].apply(lambda x: x.replace('c-',''))\n",
    "#full_df['DayofMonth'] = full_df['DayofMonth'].apply(lambda x: x.replace('c-',''))"
   ]
  },
  {
   "cell_type": "code",
   "execution_count": 29,
   "metadata": {},
   "outputs": [],
   "source": [
    "bin = [0, 1, 2, 3, 4]\n",
    "new_full_df['DistanceBin'] = pd.cut(new_full_df['Distance'], bins=[0,100,300,800,1500,3000], labels = bin, include_lowest = True)\n",
    "new_full_df['DistanceBin'].fillna(0, inplace = True)"
   ]
  },
  {
   "cell_type": "code",
   "execution_count": 30,
   "metadata": {},
   "outputs": [],
   "source": [
    "new_full_df['summer'] = (new_full_df['Month'].isin(['c-6', 'c-7', 'c-8'])).astype(np.int32)\n",
    "new_full_df['autumn'] = (new_full_df['Month'].isin(['c-9', 'c-10', 'c-11'])).astype(np.int32)\n",
    "new_full_df['winter'] = (new_full_df['Month'].isin(['c-12', 'c-1', 'c-2'])).astype(np.int32)\n",
    "new_full_df['spring'] = (new_full_df['Month'].isin(['c-3', 'c-4', 'c-5'])).astype(np.int32)"
   ]
  },
  {
   "cell_type": "code",
   "execution_count": 31,
   "metadata": {},
   "outputs": [
    {
     "name": "stdout",
     "output_type": "stream",
     "text": [
      "<class 'pandas.core.frame.DataFrame'>\n",
      "Int64Index: 200000 entries, 0 to 199999\n",
      "Data columns (total 28 columns):\n",
      "DayOfWeek            200000 non-null object\n",
      "DayofMonth           200000 non-null object\n",
      "DepTime              200000 non-null int64\n",
      "Dest                 200000 non-null int64\n",
      "Distance             200000 non-null int64\n",
      "Month                200000 non-null object\n",
      "Origin               200000 non-null int64\n",
      "UniqueCarrier        200000 non-null int64\n",
      "dep_delayed_15min    100000 non-null object\n",
      "Duration             200000 non-null int32\n",
      "Arrival              200000 non-null int64\n",
      "LogDistance          200000 non-null int32\n",
      "Avaiting2            200000 non-null int32\n",
      "Carrier_trace        200000 non-null object\n",
      "Dest_intense         200000 non-null object\n",
      "Origin_intense       200000 non-null object\n",
      "Intense              200000 non-null object\n",
      "Intensiveness        200000 non-null float64\n",
      "Join                 199917 non-null object\n",
      "flight               200000 non-null object\n",
      "hour                 200000 non-null int64\n",
      "minute               200000 non-null int64\n",
      "daytime              200000 non-null int64\n",
      "DistanceBin          200000 non-null category\n",
      "summer               200000 non-null int32\n",
      "autumn               200000 non-null int32\n",
      "winter               200000 non-null int32\n",
      "spring               200000 non-null int32\n",
      "dtypes: category(1), float64(1), int32(7), int64(9), object(10)\n",
      "memory usage: 37.6+ MB\n"
     ]
    }
   ],
   "source": [
    "#поменять категориальные фичи тут\n",
    "train_df, test_df = new_full_df.iloc[:train_split], new_full_df.iloc[train_split:]\n",
    "categ_feat_idx = np.where(train_df.drop(['dep_delayed_15min', 'Join', 'Carrier_trace', 'Intensiveness'], axis=1).dtypes)[0]\n",
    "new_full_df['Intensiveness'].fillna(0, inplace = True)\n",
    "new_full_df.info()"
   ]
  },
  {
   "cell_type": "code",
   "execution_count": 33,
   "metadata": {},
   "outputs": [],
   "source": [
    "# Categorical columns\n",
    "cat_cols = ['Month', 'DayofMonth', 'DayOfWeek', 'Origin', 'Dest', 'UniqueCarrier', \n",
    "            'hour', 'summer', 'autumn', 'winter', 'spring', 'daytime', 'flight']\n",
    "\n",
    "# Converting categorical columns to type 'category' as required by LGBM\n",
    "for c in cat_cols:\n",
    "    full_df[c] = new_full_df[c].astype('category')"
   ]
  },
  {
   "cell_type": "code",
   "execution_count": 34,
   "metadata": {},
   "outputs": [],
   "source": [
    "#поменять категориальные фичи тут\n",
    "X_train = train_df.drop(['dep_delayed_15min', 'Join', 'Carrier_trace', 'Intensiveness'], axis=1).values\n",
    "y_train = train_df['dep_delayed_15min'].map({'Y': 1, 'N': 0}).values\n",
    "X_test = test_df.drop(['dep_delayed_15min', 'Join', 'Carrier_trace', 'Intensiveness'], axis=1).values"
   ]
  },
  {
   "cell_type": "code",
   "execution_count": 35,
   "metadata": {},
   "outputs": [],
   "source": [
    "X_train_part, X_valid, y_train_part, y_valid = train_test_split(X_train, y_train, \n",
    "                                                                test_size=0.3, \n",
    "                                                                random_state=18)"
   ]
  },
  {
   "cell_type": "code",
   "execution_count": 36,
   "metadata": {},
   "outputs": [],
   "source": [
    "ctb = CatBoostClassifier(random_seed=18, silent=True, depth=9, boosting_type = 'Plain', iterations = 2000, \n",
    "                         l2_leaf_reg=3, grow_policy = 'SymmetricTree', leaf_estimation_method = 'Gradient')"
   ]
  },
  {
   "cell_type": "code",
   "execution_count": 37,
   "metadata": {},
   "outputs": [],
   "source": [
    "ctb.fit(X_train_part, y_train_part, cat_features=categ_feat_idx);"
   ]
  },
  {
   "cell_type": "code",
   "execution_count": 38,
   "metadata": {},
   "outputs": [],
   "source": [
    "ctb_valid_pred = ctb.predict_proba(X_valid)[:, 1]"
   ]
  },
  {
   "cell_type": "code",
   "execution_count": 42,
   "metadata": {},
   "outputs": [
    {
     "ename": "ValueError",
     "evalue": "continuous format is not supported",
     "output_type": "error",
     "traceback": [
      "\u001b[1;31m---------------------------------------------------------------------------\u001b[0m",
      "\u001b[1;31mValueError\u001b[0m                                Traceback (most recent call last)",
      "\u001b[1;32m<ipython-input-42-7bfe386144fb>\u001b[0m in \u001b[0;36m<module>\u001b[1;34m\u001b[0m\n\u001b[1;32m----> 1\u001b[1;33m \u001b[0mroc_auc_score\u001b[0m\u001b[1;33m(\u001b[0m\u001b[0my_valid\u001b[0m\u001b[1;33m,\u001b[0m \u001b[0mctb_valid_pred\u001b[0m\u001b[1;33m)\u001b[0m\u001b[1;33m\u001b[0m\u001b[1;33m\u001b[0m\u001b[0m\n\u001b[0m",
      "\u001b[1;32mC:\\ProgramData\\Anaconda3\\lib\\site-packages\\sklearn\\metrics\\ranking.py\u001b[0m in \u001b[0;36mroc_auc_score\u001b[1;34m(y_true, y_score, average, sample_weight, max_fpr)\u001b[0m\n\u001b[0;32m    354\u001b[0m     return _average_binary_score(\n\u001b[0;32m    355\u001b[0m         \u001b[0m_binary_roc_auc_score\u001b[0m\u001b[1;33m,\u001b[0m \u001b[0my_true\u001b[0m\u001b[1;33m,\u001b[0m \u001b[0my_score\u001b[0m\u001b[1;33m,\u001b[0m \u001b[0maverage\u001b[0m\u001b[1;33m,\u001b[0m\u001b[1;33m\u001b[0m\u001b[1;33m\u001b[0m\u001b[0m\n\u001b[1;32m--> 356\u001b[1;33m         sample_weight=sample_weight)\n\u001b[0m\u001b[0;32m    357\u001b[0m \u001b[1;33m\u001b[0m\u001b[0m\n\u001b[0;32m    358\u001b[0m \u001b[1;33m\u001b[0m\u001b[0m\n",
      "\u001b[1;32mC:\\ProgramData\\Anaconda3\\lib\\site-packages\\sklearn\\metrics\\base.py\u001b[0m in \u001b[0;36m_average_binary_score\u001b[1;34m(binary_metric, y_true, y_score, average, sample_weight)\u001b[0m\n\u001b[0;32m     72\u001b[0m     \u001b[0my_type\u001b[0m \u001b[1;33m=\u001b[0m \u001b[0mtype_of_target\u001b[0m\u001b[1;33m(\u001b[0m\u001b[0my_true\u001b[0m\u001b[1;33m)\u001b[0m\u001b[1;33m\u001b[0m\u001b[1;33m\u001b[0m\u001b[0m\n\u001b[0;32m     73\u001b[0m     \u001b[1;32mif\u001b[0m \u001b[0my_type\u001b[0m \u001b[1;32mnot\u001b[0m \u001b[1;32min\u001b[0m \u001b[1;33m(\u001b[0m\u001b[1;34m\"binary\"\u001b[0m\u001b[1;33m,\u001b[0m \u001b[1;34m\"multilabel-indicator\"\u001b[0m\u001b[1;33m)\u001b[0m\u001b[1;33m:\u001b[0m\u001b[1;33m\u001b[0m\u001b[1;33m\u001b[0m\u001b[0m\n\u001b[1;32m---> 74\u001b[1;33m         \u001b[1;32mraise\u001b[0m \u001b[0mValueError\u001b[0m\u001b[1;33m(\u001b[0m\u001b[1;34m\"{0} format is not supported\"\u001b[0m\u001b[1;33m.\u001b[0m\u001b[0mformat\u001b[0m\u001b[1;33m(\u001b[0m\u001b[0my_type\u001b[0m\u001b[1;33m)\u001b[0m\u001b[1;33m)\u001b[0m\u001b[1;33m\u001b[0m\u001b[1;33m\u001b[0m\u001b[0m\n\u001b[0m\u001b[0;32m     75\u001b[0m \u001b[1;33m\u001b[0m\u001b[0m\n\u001b[0;32m     76\u001b[0m     \u001b[1;32mif\u001b[0m \u001b[0my_type\u001b[0m \u001b[1;33m==\u001b[0m \u001b[1;34m\"binary\"\u001b[0m\u001b[1;33m:\u001b[0m\u001b[1;33m\u001b[0m\u001b[1;33m\u001b[0m\u001b[0m\n",
      "\u001b[1;31mValueError\u001b[0m: continuous format is not supported"
     ]
    }
   ],
   "source": [
    "roc_auc_score(y_valid, ctb_valid_pred)"
   ]
  },
  {
   "cell_type": "code",
   "execution_count": 43,
   "metadata": {},
   "outputs": [
    {
     "data": {
      "text/plain": [
       "array([18.0744339 , 18.46941088,  2.18838766,  2.82682561,  1.93478581,\n",
       "       18.34235001,  2.29028565,  6.9836784 ,  1.52393562,  4.13658831,\n",
       "        1.09329842,  1.50820559,  1.40423694,  1.17722519,  1.35637911,\n",
       "        2.38565087,  3.95808603,  2.75040858,  5.83623476,  1.02138728,\n",
       "        0.24497326,  0.11461071,  0.24715538,  0.13146604])"
      ]
     },
     "execution_count": 43,
     "metadata": {},
     "output_type": "execute_result"
    }
   ],
   "source": [
    "ctb.feature_importances_"
   ]
  },
  {
   "cell_type": "code",
   "execution_count": null,
   "metadata": {},
   "outputs": [],
   "source": []
  },
  {
   "cell_type": "code",
   "execution_count": null,
   "metadata": {},
   "outputs": [],
   "source": []
  },
  {
   "cell_type": "code",
   "execution_count": 44,
   "metadata": {},
   "outputs": [],
   "source": [
    "ctb.fit(X_train, y_train, cat_features=categ_feat_idx);"
   ]
  },
  {
   "cell_type": "code",
   "execution_count": 45,
   "metadata": {},
   "outputs": [],
   "source": [
    "ctb_test_pred = ctb.predict_proba(X_test)[:, 1]"
   ]
  },
  {
   "cell_type": "code",
   "execution_count": 46,
   "metadata": {},
   "outputs": [],
   "source": [
    "with warnings.catch_warnings():\n",
    "    warnings.simplefilter(\"ignore\")\n",
    "    \n",
    "    sample_sub = pd.read_csv(r'C:\\Users\\One\\Git\\ml-ds\\as2\\sample_submission.csv.zip', compression = 'zip', \n",
    "                             index_col='id')\n",
    "    sample_sub['dep_delayed_15min'] = ctb_test_pred\n",
    "    sample_sub.to_csv('submit_31.csv')"
   ]
  },
  {
   "cell_type": "code",
   "execution_count": null,
   "metadata": {},
   "outputs": [],
   "source": []
  },
  {
   "cell_type": "code",
   "execution_count": null,
   "metadata": {},
   "outputs": [],
   "source": []
  }
 ],
 "metadata": {
  "kernelspec": {
   "display_name": "Python 3",
   "language": "python",
   "name": "python3"
  },
  "language_info": {
   "codemirror_mode": {
    "name": "ipython",
    "version": 3
   },
   "file_extension": ".py",
   "mimetype": "text/x-python",
   "name": "python",
   "nbconvert_exporter": "python",
   "pygments_lexer": "ipython3",
   "version": "3.7.3"
  }
 },
 "nbformat": 4,
 "nbformat_minor": 2
}
